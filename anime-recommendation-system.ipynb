{
 "cells": [
  {
   "cell_type": "markdown",
   "metadata": {
    "papermill": {
     "duration": 0.023881,
     "end_time": "2021-08-10T16:06:01.646433",
     "exception": false,
     "start_time": "2021-08-10T16:06:01.622552",
     "status": "completed"
    },
    "tags": []
   },
   "source": [
    "# Anime Recommendation System\n",
    " "
   ]
  },
  {
   "cell_type": "markdown",
   "metadata": {
    "papermill": {
     "duration": 0.020083,
     "end_time": "2021-08-10T16:06:01.690947",
     "exception": false,
     "start_time": "2021-08-10T16:06:01.670864",
     "status": "completed"
    },
    "tags": []
   },
   "source": [
    "<img src=\"https://cdn.vox-cdn.com/thumbor/-QP8NzuepshFimG4d5ACdUxyX4s=/0x0:1024x768/1200x800/filters:focal(431x303:593x465)/cdn.vox-cdn.com/uploads/chorus_image/image/66217104/5986912410_682fed19e2_b.0.jpg\" style=\"width: 100%; height: 100%\" align = \"left\">\n"
   ]
  },
  {
   "cell_type": "markdown",
   "metadata": {
    "papermill": {
     "duration": 0.01934,
     "end_time": "2021-08-10T16:06:01.730995",
     "exception": false,
     "start_time": "2021-08-10T16:06:01.711655",
     "status": "completed"
    },
    "tags": []
   },
   "source": [
    "# Table of contents\n",
    "\n",
    "[<h3> 1. Exploratory data analysis and data cleaning</h3>](#1)\n",
    "\n",
    "[<h3>2. Recommendation System</h3>](#2)\n",
    "\n",
    "[<h3>3. Recommendations</h3>](#3)\n",
    "\n",
    "   [<h4>3.1. Dragon Ball Z</h4>](#4)\n",
    "\n",
    "  "
   ]
  },
  {
   "cell_type": "markdown",
   "metadata": {
    "papermill": {
     "duration": 0.021126,
     "end_time": "2021-08-10T16:06:01.773616",
     "exception": false,
     "start_time": "2021-08-10T16:06:01.752490",
     "status": "completed"
    },
    "tags": []
   },
   "source": [
    "In the notebook we will build a basic anime collaborative recommendation system. First of all let's have a look at the dataset.\n",
    "\n",
    "This data set contains information on user preference data from 73,516 users on 12,294 anime. Each user is able to add anime to their completed list and give it a rating and this data set is a compilation of those ratings. Its composition in numbers: \n",
    "* 20.000.000 ratings\n",
    "* 460.000 tags\n",
    "* 27.000 movies\n",
    "\n",
    "<h2> Content:</h2>\n",
    "\n",
    "**Anime.csv that contains ratings of movies by users:**\n",
    "* **anime_id** - Number which identifies the anime(unique id).\n",
    "* **name** -  Name of the anime(in Japanese or English).\n",
    "* **genre** - The type of anime(helps in recommending).\n",
    "* **type** - It has like it is a TV series or movie or OVA, etc.\n",
    "* **episodes** -How many episodes are there in the series and 1 if it is a movie.\n",
    "* **rating** - Users rating for the anime.\n",
    "* **members** -  Number of community members that are in this anime's group\n",
    "\n",
    "\n",
    "**Rating.csv that contains movie information:**\n",
    "* **user_id** - User-id which is randomly generated while collecting the data.\n",
    "* **anime_id** - id of the anime that the user has rated using his id.\n",
    "* **rating** - Rating is given by the user to the specific anime(ranges between 1 to 10)(-1 means the user has watched it but he did not give any rating).\n",
    "\n",
    "\n",
    "\n",
    "\n"
   ]
  },
  {
   "cell_type": "markdown",
   "metadata": {
    "papermill": {
     "duration": 0.01896,
     "end_time": "2021-08-10T16:06:01.813435",
     "exception": false,
     "start_time": "2021-08-10T16:06:01.794475",
     "status": "completed"
    },
    "tags": []
   },
   "source": [
    "# 1. Exploratory data analysis and data cleaning<a class=\"anchor\" id=\"1\"></a>\n",
    "\n"
   ]
  },
  {
   "cell_type": "code",
   "execution_count": 2,
   "metadata": {
    "_cell_guid": "79c7e3d0-c299-4dcb-8224-4455121ee9b0",
    "_uuid": "d629ff2d2480ee46fbb7e2d37f6b5fab8052498a",
    "execution": {
     "iopub.execute_input": "2021-08-10T16:06:01.860641Z",
     "iopub.status.busy": "2021-08-10T16:06:01.859863Z",
     "iopub.status.idle": "2021-08-10T16:06:06.965408Z",
     "shell.execute_reply": "2021-08-10T16:06:06.965980Z"
    },
    "papermill": {
     "duration": 5.133336,
     "end_time": "2021-08-10T16:06:06.966173",
     "exception": false,
     "start_time": "2021-08-10T16:06:01.832837",
     "status": "completed"
    },
    "tags": []
   },
   "outputs": [],
   "source": [
    "import pandas as pd\n",
    "import numpy as np\n",
    "import seaborn as sns\n",
    "import matplotlib.pyplot as plt\n",
    "anime = pd.read_csv('anime dataset.csv')\n",
    "rating = pd.read_csv('rating.csv')"
   ]
  },
  {
   "cell_type": "code",
   "execution_count": 3,
   "metadata": {
    "execution": {
     "iopub.execute_input": "2021-08-10T16:06:07.018126Z",
     "iopub.status.busy": "2021-08-10T16:06:07.017070Z",
     "iopub.status.idle": "2021-08-10T16:06:07.036907Z",
     "shell.execute_reply": "2021-08-10T16:06:07.037432Z"
    },
    "papermill": {
     "duration": 0.050829,
     "end_time": "2021-08-10T16:06:07.037599",
     "exception": false,
     "start_time": "2021-08-10T16:06:06.986770",
     "status": "completed"
    },
    "tags": []
   },
   "outputs": [
    {
     "data": {
      "text/html": [
       "<div>\n",
       "<style scoped>\n",
       "    .dataframe tbody tr th:only-of-type {\n",
       "        vertical-align: middle;\n",
       "    }\n",
       "\n",
       "    .dataframe tbody tr th {\n",
       "        vertical-align: top;\n",
       "    }\n",
       "\n",
       "    .dataframe thead th {\n",
       "        text-align: right;\n",
       "    }\n",
       "</style>\n",
       "<table border=\"1\" class=\"dataframe\">\n",
       "  <thead>\n",
       "    <tr style=\"text-align: right;\">\n",
       "      <th></th>\n",
       "      <th>anime_id</th>\n",
       "      <th>name</th>\n",
       "      <th>genre</th>\n",
       "      <th>type</th>\n",
       "      <th>episodes</th>\n",
       "      <th>rating</th>\n",
       "      <th>members</th>\n",
       "    </tr>\n",
       "  </thead>\n",
       "  <tbody>\n",
       "    <tr>\n",
       "      <td>0</td>\n",
       "      <td>32281</td>\n",
       "      <td>Kimi no Na wa.</td>\n",
       "      <td>Drama, Romance, School, Supernatural</td>\n",
       "      <td>Movie</td>\n",
       "      <td>1</td>\n",
       "      <td>9.37</td>\n",
       "      <td>200630</td>\n",
       "    </tr>\n",
       "    <tr>\n",
       "      <td>1</td>\n",
       "      <td>5114</td>\n",
       "      <td>Fullmetal Alchemist: Brotherhood</td>\n",
       "      <td>Action, Adventure, Drama, Fantasy, Magic, Mili...</td>\n",
       "      <td>TV</td>\n",
       "      <td>64</td>\n",
       "      <td>9.26</td>\n",
       "      <td>793665</td>\n",
       "    </tr>\n",
       "    <tr>\n",
       "      <td>2</td>\n",
       "      <td>28977</td>\n",
       "      <td>Gintama°</td>\n",
       "      <td>Action, Comedy, Historical, Parody, Samurai, S...</td>\n",
       "      <td>TV</td>\n",
       "      <td>51</td>\n",
       "      <td>9.25</td>\n",
       "      <td>114262</td>\n",
       "    </tr>\n",
       "    <tr>\n",
       "      <td>3</td>\n",
       "      <td>9253</td>\n",
       "      <td>Steins;Gate</td>\n",
       "      <td>Sci-Fi, Thriller</td>\n",
       "      <td>TV</td>\n",
       "      <td>24</td>\n",
       "      <td>9.17</td>\n",
       "      <td>673572</td>\n",
       "    </tr>\n",
       "    <tr>\n",
       "      <td>4</td>\n",
       "      <td>9969</td>\n",
       "      <td>Gintama&amp;#039;</td>\n",
       "      <td>Action, Comedy, Historical, Parody, Samurai, S...</td>\n",
       "      <td>TV</td>\n",
       "      <td>51</td>\n",
       "      <td>9.16</td>\n",
       "      <td>151266</td>\n",
       "    </tr>\n",
       "  </tbody>\n",
       "</table>\n",
       "</div>"
      ],
      "text/plain": [
       "   anime_id                              name  \\\n",
       "0     32281                    Kimi no Na wa.   \n",
       "1      5114  Fullmetal Alchemist: Brotherhood   \n",
       "2     28977                          Gintama°   \n",
       "3      9253                       Steins;Gate   \n",
       "4      9969                     Gintama&#039;   \n",
       "\n",
       "                                               genre   type episodes  rating  \\\n",
       "0               Drama, Romance, School, Supernatural  Movie        1    9.37   \n",
       "1  Action, Adventure, Drama, Fantasy, Magic, Mili...     TV       64    9.26   \n",
       "2  Action, Comedy, Historical, Parody, Samurai, S...     TV       51    9.25   \n",
       "3                                   Sci-Fi, Thriller     TV       24    9.17   \n",
       "4  Action, Comedy, Historical, Parody, Samurai, S...     TV       51    9.16   \n",
       "\n",
       "   members  \n",
       "0   200630  \n",
       "1   793665  \n",
       "2   114262  \n",
       "3   673572  \n",
       "4   151266  "
      ]
     },
     "execution_count": 3,
     "metadata": {},
     "output_type": "execute_result"
    }
   ],
   "source": [
    "anime.head()"
   ]
  },
  {
   "cell_type": "code",
   "execution_count": 4,
   "metadata": {
    "execution": {
     "iopub.execute_input": "2021-08-10T16:06:07.083426Z",
     "iopub.status.busy": "2021-08-10T16:06:07.082397Z",
     "iopub.status.idle": "2021-08-10T16:06:07.092132Z",
     "shell.execute_reply": "2021-08-10T16:06:07.092620Z"
    },
    "papermill": {
     "duration": 0.034747,
     "end_time": "2021-08-10T16:06:07.092776",
     "exception": false,
     "start_time": "2021-08-10T16:06:07.058029",
     "status": "completed"
    },
    "tags": []
   },
   "outputs": [
    {
     "data": {
      "text/html": [
       "<div>\n",
       "<style scoped>\n",
       "    .dataframe tbody tr th:only-of-type {\n",
       "        vertical-align: middle;\n",
       "    }\n",
       "\n",
       "    .dataframe tbody tr th {\n",
       "        vertical-align: top;\n",
       "    }\n",
       "\n",
       "    .dataframe thead th {\n",
       "        text-align: right;\n",
       "    }\n",
       "</style>\n",
       "<table border=\"1\" class=\"dataframe\">\n",
       "  <thead>\n",
       "    <tr style=\"text-align: right;\">\n",
       "      <th></th>\n",
       "      <th>user_id</th>\n",
       "      <th>anime_id</th>\n",
       "      <th>rating</th>\n",
       "    </tr>\n",
       "  </thead>\n",
       "  <tbody>\n",
       "    <tr>\n",
       "      <td>0</td>\n",
       "      <td>1</td>\n",
       "      <td>20</td>\n",
       "      <td>-1</td>\n",
       "    </tr>\n",
       "    <tr>\n",
       "      <td>1</td>\n",
       "      <td>1</td>\n",
       "      <td>24</td>\n",
       "      <td>-1</td>\n",
       "    </tr>\n",
       "    <tr>\n",
       "      <td>2</td>\n",
       "      <td>1</td>\n",
       "      <td>79</td>\n",
       "      <td>-1</td>\n",
       "    </tr>\n",
       "    <tr>\n",
       "      <td>3</td>\n",
       "      <td>1</td>\n",
       "      <td>226</td>\n",
       "      <td>-1</td>\n",
       "    </tr>\n",
       "    <tr>\n",
       "      <td>4</td>\n",
       "      <td>1</td>\n",
       "      <td>241</td>\n",
       "      <td>-1</td>\n",
       "    </tr>\n",
       "  </tbody>\n",
       "</table>\n",
       "</div>"
      ],
      "text/plain": [
       "   user_id  anime_id  rating\n",
       "0        1        20      -1\n",
       "1        1        24      -1\n",
       "2        1        79      -1\n",
       "3        1       226      -1\n",
       "4        1       241      -1"
      ]
     },
     "execution_count": 4,
     "metadata": {},
     "output_type": "execute_result"
    }
   ],
   "source": [
    "rating.head()"
   ]
  },
  {
   "cell_type": "code",
   "execution_count": 5,
   "metadata": {
    "execution": {
     "iopub.execute_input": "2021-08-10T16:06:07.138554Z",
     "iopub.status.busy": "2021-08-10T16:06:07.137443Z",
     "iopub.status.idle": "2021-08-10T16:06:07.165602Z",
     "shell.execute_reply": "2021-08-10T16:06:07.166088Z"
    },
    "papermill": {
     "duration": 0.053027,
     "end_time": "2021-08-10T16:06:07.166248",
     "exception": false,
     "start_time": "2021-08-10T16:06:07.113221",
     "status": "completed"
    },
    "tags": []
   },
   "outputs": [
    {
     "data": {
      "text/html": [
       "<div>\n",
       "<style scoped>\n",
       "    .dataframe tbody tr th:only-of-type {\n",
       "        vertical-align: middle;\n",
       "    }\n",
       "\n",
       "    .dataframe tbody tr th {\n",
       "        vertical-align: top;\n",
       "    }\n",
       "\n",
       "    .dataframe thead th {\n",
       "        text-align: right;\n",
       "    }\n",
       "</style>\n",
       "<table border=\"1\" class=\"dataframe\">\n",
       "  <thead>\n",
       "    <tr style=\"text-align: right;\">\n",
       "      <th></th>\n",
       "      <th>anime_id</th>\n",
       "      <th>rating</th>\n",
       "      <th>members</th>\n",
       "    </tr>\n",
       "  </thead>\n",
       "  <tbody>\n",
       "    <tr>\n",
       "      <td>count</td>\n",
       "      <td>12294.000000</td>\n",
       "      <td>12064.000000</td>\n",
       "      <td>1.229400e+04</td>\n",
       "    </tr>\n",
       "    <tr>\n",
       "      <td>mean</td>\n",
       "      <td>14058.221653</td>\n",
       "      <td>6.473902</td>\n",
       "      <td>1.807134e+04</td>\n",
       "    </tr>\n",
       "    <tr>\n",
       "      <td>std</td>\n",
       "      <td>11455.294701</td>\n",
       "      <td>1.026746</td>\n",
       "      <td>5.482068e+04</td>\n",
       "    </tr>\n",
       "    <tr>\n",
       "      <td>min</td>\n",
       "      <td>1.000000</td>\n",
       "      <td>1.670000</td>\n",
       "      <td>5.000000e+00</td>\n",
       "    </tr>\n",
       "    <tr>\n",
       "      <td>25%</td>\n",
       "      <td>3484.250000</td>\n",
       "      <td>5.880000</td>\n",
       "      <td>2.250000e+02</td>\n",
       "    </tr>\n",
       "    <tr>\n",
       "      <td>50%</td>\n",
       "      <td>10260.500000</td>\n",
       "      <td>6.570000</td>\n",
       "      <td>1.550000e+03</td>\n",
       "    </tr>\n",
       "    <tr>\n",
       "      <td>75%</td>\n",
       "      <td>24794.500000</td>\n",
       "      <td>7.180000</td>\n",
       "      <td>9.437000e+03</td>\n",
       "    </tr>\n",
       "    <tr>\n",
       "      <td>max</td>\n",
       "      <td>34527.000000</td>\n",
       "      <td>10.000000</td>\n",
       "      <td>1.013917e+06</td>\n",
       "    </tr>\n",
       "  </tbody>\n",
       "</table>\n",
       "</div>"
      ],
      "text/plain": [
       "           anime_id        rating       members\n",
       "count  12294.000000  12064.000000  1.229400e+04\n",
       "mean   14058.221653      6.473902  1.807134e+04\n",
       "std    11455.294701      1.026746  5.482068e+04\n",
       "min        1.000000      1.670000  5.000000e+00\n",
       "25%     3484.250000      5.880000  2.250000e+02\n",
       "50%    10260.500000      6.570000  1.550000e+03\n",
       "75%    24794.500000      7.180000  9.437000e+03\n",
       "max    34527.000000     10.000000  1.013917e+06"
      ]
     },
     "execution_count": 5,
     "metadata": {},
     "output_type": "execute_result"
    }
   ],
   "source": [
    "anime.describe()"
   ]
  },
  {
   "cell_type": "code",
   "execution_count": 6,
   "metadata": {
    "execution": {
     "iopub.execute_input": "2021-08-10T16:06:07.280833Z",
     "iopub.status.busy": "2021-08-10T16:06:07.279901Z",
     "iopub.status.idle": "2021-08-10T16:06:07.909412Z",
     "shell.execute_reply": "2021-08-10T16:06:07.908499Z"
    },
    "papermill": {
     "duration": 0.721853,
     "end_time": "2021-08-10T16:06:07.909587",
     "exception": false,
     "start_time": "2021-08-10T16:06:07.187734",
     "status": "completed"
    },
    "tags": []
   },
   "outputs": [
    {
     "data": {
      "text/html": [
       "<div>\n",
       "<style scoped>\n",
       "    .dataframe tbody tr th:only-of-type {\n",
       "        vertical-align: middle;\n",
       "    }\n",
       "\n",
       "    .dataframe tbody tr th {\n",
       "        vertical-align: top;\n",
       "    }\n",
       "\n",
       "    .dataframe thead th {\n",
       "        text-align: right;\n",
       "    }\n",
       "</style>\n",
       "<table border=\"1\" class=\"dataframe\">\n",
       "  <thead>\n",
       "    <tr style=\"text-align: right;\">\n",
       "      <th></th>\n",
       "      <th>user_id</th>\n",
       "      <th>anime_id</th>\n",
       "      <th>rating</th>\n",
       "    </tr>\n",
       "  </thead>\n",
       "  <tbody>\n",
       "    <tr>\n",
       "      <td>count</td>\n",
       "      <td>7.813737e+06</td>\n",
       "      <td>7.813737e+06</td>\n",
       "      <td>7.813737e+06</td>\n",
       "    </tr>\n",
       "    <tr>\n",
       "      <td>mean</td>\n",
       "      <td>3.672796e+04</td>\n",
       "      <td>8.909072e+03</td>\n",
       "      <td>6.144030e+00</td>\n",
       "    </tr>\n",
       "    <tr>\n",
       "      <td>std</td>\n",
       "      <td>2.099795e+04</td>\n",
       "      <td>8.883950e+03</td>\n",
       "      <td>3.727800e+00</td>\n",
       "    </tr>\n",
       "    <tr>\n",
       "      <td>min</td>\n",
       "      <td>1.000000e+00</td>\n",
       "      <td>1.000000e+00</td>\n",
       "      <td>-1.000000e+00</td>\n",
       "    </tr>\n",
       "    <tr>\n",
       "      <td>25%</td>\n",
       "      <td>1.897400e+04</td>\n",
       "      <td>1.240000e+03</td>\n",
       "      <td>6.000000e+00</td>\n",
       "    </tr>\n",
       "    <tr>\n",
       "      <td>50%</td>\n",
       "      <td>3.679100e+04</td>\n",
       "      <td>6.213000e+03</td>\n",
       "      <td>7.000000e+00</td>\n",
       "    </tr>\n",
       "    <tr>\n",
       "      <td>75%</td>\n",
       "      <td>5.475700e+04</td>\n",
       "      <td>1.409300e+04</td>\n",
       "      <td>9.000000e+00</td>\n",
       "    </tr>\n",
       "    <tr>\n",
       "      <td>max</td>\n",
       "      <td>7.351600e+04</td>\n",
       "      <td>3.451900e+04</td>\n",
       "      <td>1.000000e+01</td>\n",
       "    </tr>\n",
       "  </tbody>\n",
       "</table>\n",
       "</div>"
      ],
      "text/plain": [
       "            user_id      anime_id        rating\n",
       "count  7.813737e+06  7.813737e+06  7.813737e+06\n",
       "mean   3.672796e+04  8.909072e+03  6.144030e+00\n",
       "std    2.099795e+04  8.883950e+03  3.727800e+00\n",
       "min    1.000000e+00  1.000000e+00 -1.000000e+00\n",
       "25%    1.897400e+04  1.240000e+03  6.000000e+00\n",
       "50%    3.679100e+04  6.213000e+03  7.000000e+00\n",
       "75%    5.475700e+04  1.409300e+04  9.000000e+00\n",
       "max    7.351600e+04  3.451900e+04  1.000000e+01"
      ]
     },
     "execution_count": 6,
     "metadata": {},
     "output_type": "execute_result"
    }
   ],
   "source": [
    "rating.describe()"
   ]
  },
  {
   "cell_type": "code",
   "execution_count": 7,
   "metadata": {
    "execution": {
     "iopub.execute_input": "2021-08-10T16:06:07.959476Z",
     "iopub.status.busy": "2021-08-10T16:06:07.958780Z",
     "iopub.status.idle": "2021-08-10T16:06:08.007442Z",
     "shell.execute_reply": "2021-08-10T16:06:08.006850Z"
    },
    "papermill": {
     "duration": 0.075894,
     "end_time": "2021-08-10T16:06:08.007580",
     "exception": false,
     "start_time": "2021-08-10T16:06:07.931686",
     "status": "completed"
    },
    "tags": []
   },
   "outputs": [
    {
     "data": {
      "text/plain": [
       " 8     1646019\n",
       "-1     1476496\n",
       " 7     1375287\n",
       " 9     1254096\n",
       " 10     955715\n",
       " 6      637775\n",
       " 5      282806\n",
       " 4      104291\n",
       " 3       41453\n",
       " 2       23150\n",
       " 1       16649\n",
       "Name: rating, dtype: int64"
      ]
     },
     "execution_count": 7,
     "metadata": {},
     "output_type": "execute_result"
    }
   ],
   "source": [
    "# Lets have a look the distribution of ratings, because those \"-1\" are suspicious\n",
    "rating.rating.value_counts()\n",
    "# value_counts() returns a series of counts of unique values in descending order."
   ]
  },
  {
   "cell_type": "markdown",
   "metadata": {
    "papermill": {
     "duration": 0.022776,
     "end_time": "2021-08-10T16:06:08.052737",
     "exception": false,
     "start_time": "2021-08-10T16:06:08.029961",
     "status": "completed"
    },
    "tags": []
   },
   "source": [
    "I'm not sure what the \"-1\" mean because the ratings goes from 1 up to 10. Maybe it means, that no rating are available. Therefore we will delete the row with \"-1\" in rating"
   ]
  },
  {
   "cell_type": "code",
   "execution_count": 8,
   "metadata": {
    "execution": {
     "iopub.execute_input": "2021-08-10T16:06:08.104048Z",
     "iopub.status.busy": "2021-08-10T16:06:08.103321Z",
     "iopub.status.idle": "2021-08-10T16:06:08.315319Z",
     "shell.execute_reply": "2021-08-10T16:06:08.314579Z"
    },
    "papermill": {
     "duration": 0.240001,
     "end_time": "2021-08-10T16:06:08.315457",
     "exception": false,
     "start_time": "2021-08-10T16:06:08.075456",
     "status": "completed"
    },
    "tags": []
   },
   "outputs": [],
   "source": [
    "# we actually do not know what is '-1' rating means but in content then mentioned that user whatched \n",
    "# but did not gave any rating\n",
    "# So,we will simply delete that one\n",
    "rating = rating[rating[\"rating\"] != -1]"
   ]
  },
  {
   "cell_type": "code",
   "execution_count": 9,
   "metadata": {
    "execution": {
     "iopub.execute_input": "2021-08-10T16:06:08.367297Z",
     "iopub.status.busy": "2021-08-10T16:06:08.366594Z",
     "iopub.status.idle": "2021-08-10T16:06:08.369602Z",
     "shell.execute_reply": "2021-08-10T16:06:08.370072Z"
    },
    "papermill": {
     "duration": 0.031846,
     "end_time": "2021-08-10T16:06:08.370241",
     "exception": false,
     "start_time": "2021-08-10T16:06:08.338395",
     "status": "completed"
    },
    "tags": []
   },
   "outputs": [
    {
     "name": "stdout",
     "output_type": "stream",
     "text": [
      "anime.csv - rows:  12294 columns:  7\n",
      "rating.csv - rows: 6337241  columns:  3\n"
     ]
    }
   ],
   "source": [
    "print(\"anime.csv - rows: \",(anime.shape[0]), \"columns: \",(anime.shape[1]))\n",
    "print(\"rating.csv - rows:\", (rating.shape[0]),\" columns: \", (rating.shape[1]))"
   ]
  },
  {
   "cell_type": "code",
   "execution_count": 10,
   "metadata": {
    "execution": {
     "iopub.execute_input": "2021-08-10T16:06:08.424141Z",
     "iopub.status.busy": "2021-08-10T16:06:08.423408Z",
     "iopub.status.idle": "2021-08-10T16:06:08.944106Z",
     "shell.execute_reply": "2021-08-10T16:06:08.943361Z"
    },
    "papermill": {
     "duration": 0.550171,
     "end_time": "2021-08-10T16:06:08.944246",
     "exception": false,
     "start_time": "2021-08-10T16:06:08.394075",
     "status": "completed"
    },
    "tags": []
   },
   "outputs": [
    {
     "data": {
      "image/png": "[encoded data removed]",
      "text/plain": [
       "<Figure size 576x432 with 2 Axes>"
      ]
     },
     "metadata": {
      "needs_background": "light"
     },
     "output_type": "display_data"
    }
   ],
   "source": [
    "plt.figure(figsize=(8,6))\n",
    "sns.heatmap(anime.isnull())\n",
    "plt.title(\"Missing values in features of anime dataset\", fontsize = 15)\n",
    "plt.show()"
   ]
  },
  {
   "cell_type": "markdown",
   "metadata": {
    "papermill": {
     "duration": 0.024312,
     "end_time": "2021-08-10T16:06:08.992906",
     "exception": false,
     "start_time": "2021-08-10T16:06:08.968594",
     "status": "completed"
    },
    "tags": []
   },
   "source": [
    "The anime dataset has some missing values in rating and genre, but we can ignore them, because we won't use those columns later."
   ]
  },
  {
   "cell_type": "code",
   "execution_count": 11,
   "metadata": {
    "execution": {
     "iopub.execute_input": "2021-08-10T16:06:09.048468Z",
     "iopub.status.busy": "2021-08-10T16:06:09.047680Z",
     "iopub.status.idle": "2021-08-10T16:06:25.598783Z",
     "shell.execute_reply": "2021-08-10T16:06:25.598048Z"
    },
    "papermill": {
     "duration": 16.581452,
     "end_time": "2021-08-10T16:06:25.598909",
     "exception": false,
     "start_time": "2021-08-10T16:06:09.017457",
     "status": "completed"
    },
    "tags": []
   },
   "outputs": [
    {
     "data": {
      "image/png": "[encoded data removed]",
      "text/plain": [
       "<Figure size 576x432 with 2 Axes>"
      ]
     },
     "metadata": {
      "needs_background": "light"
     },
     "output_type": "display_data"
    }
   ],
   "source": [
    "plt.figure(figsize=(8,6))\n",
    "sns.heatmap(rating.isnull())\n",
    "plt.title(\"Missing values in features of rating dataset\", fontsize = 15)\n",
    "plt.show()"
   ]
  },
  {
   "cell_type": "markdown",
   "metadata": {
    "papermill": {
     "duration": 0.025543,
     "end_time": "2021-08-10T16:06:25.656933",
     "exception": false,
     "start_time": "2021-08-10T16:06:25.631390",
     "status": "completed"
    },
    "tags": []
   },
   "source": [
    "## 1.1. Prepare the data"
   ]
  },
  {
   "cell_type": "code",
   "execution_count": 12,
   "metadata": {
    "execution": {
     "iopub.execute_input": "2021-08-10T16:06:25.720083Z",
     "iopub.status.busy": "2021-08-10T16:06:25.719342Z",
     "iopub.status.idle": "2021-08-10T16:06:26.643838Z",
     "shell.execute_reply": "2021-08-10T16:06:26.644338Z"
    },
    "papermill": {
     "duration": 0.961621,
     "end_time": "2021-08-10T16:06:26.644497",
     "exception": false,
     "start_time": "2021-08-10T16:06:25.682876",
     "status": "completed"
    },
    "tags": []
   },
   "outputs": [
    {
     "data": {
      "text/html": [
       "<div>\n",
       "<style scoped>\n",
       "    .dataframe tbody tr th:only-of-type {\n",
       "        vertical-align: middle;\n",
       "    }\n",
       "\n",
       "    .dataframe tbody tr th {\n",
       "        vertical-align: top;\n",
       "    }\n",
       "\n",
       "    .dataframe thead th {\n",
       "        text-align: right;\n",
       "    }\n",
       "</style>\n",
       "<table border=\"1\" class=\"dataframe\">\n",
       "  <thead>\n",
       "    <tr style=\"text-align: right;\">\n",
       "      <th></th>\n",
       "      <th>user_id</th>\n",
       "      <th>rating</th>\n",
       "      <th>name</th>\n",
       "    </tr>\n",
       "  </thead>\n",
       "  <tbody>\n",
       "    <tr>\n",
       "      <td>0</td>\n",
       "      <td>1</td>\n",
       "      <td>10</td>\n",
       "      <td>Highschool of the Dead</td>\n",
       "    </tr>\n",
       "    <tr>\n",
       "      <td>1</td>\n",
       "      <td>3</td>\n",
       "      <td>6</td>\n",
       "      <td>Highschool of the Dead</td>\n",
       "    </tr>\n",
       "    <tr>\n",
       "      <td>2</td>\n",
       "      <td>5</td>\n",
       "      <td>2</td>\n",
       "      <td>Highschool of the Dead</td>\n",
       "    </tr>\n",
       "    <tr>\n",
       "      <td>3</td>\n",
       "      <td>12</td>\n",
       "      <td>6</td>\n",
       "      <td>Highschool of the Dead</td>\n",
       "    </tr>\n",
       "    <tr>\n",
       "      <td>4</td>\n",
       "      <td>14</td>\n",
       "      <td>6</td>\n",
       "      <td>Highschool of the Dead</td>\n",
       "    </tr>\n",
       "  </tbody>\n",
       "</table>\n",
       "</div>"
      ],
      "text/plain": [
       "   user_id  rating                    name\n",
       "0        1      10  Highschool of the Dead\n",
       "1        3       6  Highschool of the Dead\n",
       "2        5       2  Highschool of the Dead\n",
       "3       12       6  Highschool of the Dead\n",
       "4       14       6  Highschool of the Dead"
      ]
     },
     "execution_count": 12,
     "metadata": {},
     "output_type": "execute_result"
    }
   ],
   "source": [
    "#We will merge anime and rating datasets and keep only the columns we will use.\n",
    "#And to proceed further we need to count the no. of ratings for each anime.\n",
    "\n",
    "df = pd.merge(rating,anime[[\"anime_id\",\"name\"]], left_on = \"anime_id\", right_on = \"anime_id\").drop(\"anime_id\", axis = 1)\n",
    "df.head()"
   ]
  },
  {
   "cell_type": "code",
   "execution_count": 14,
   "metadata": {
    "execution": {
     "iopub.execute_input": "2021-08-10T16:06:27.086428Z",
     "iopub.status.busy": "2021-08-10T16:06:26.810732Z",
     "iopub.status.idle": "2021-08-10T16:06:27.483593Z",
     "shell.execute_reply": "2021-08-10T16:06:27.483000Z"
    },
    "papermill": {
     "duration": 0.81213,
     "end_time": "2021-08-10T16:06:27.483717",
     "exception": false,
     "start_time": "2021-08-10T16:06:26.671587",
     "status": "completed"
    },
    "tags": []
   },
   "outputs": [
    {
     "data": {
      "text/plain": [
       "name\n",
       "Death Note                         34226\n",
       "Sword Art Online                   26310\n",
       "Shingeki no Kyojin                 25290\n",
       "Code Geass: Hangyaku no Lelouch    24126\n",
       "Angel Beats!                       23565\n",
       "                                   ...  \n",
       "Ashita no Eleventachi                  1\n",
       "Ashita e Mukau Hito                    1\n",
       "Shounen Ninja Kaze no Fujimaru         1\n",
       "Hi no Tori: Hagoromo-hen               1\n",
       "Mechakko Dotakon                       1\n",
       "Name: rating, Length: 9926, dtype: int64"
      ]
     },
     "execution_count": 14,
     "metadata": {},
     "output_type": "execute_result"
    }
   ],
   "source": [
    "# count the rating for each anime\n",
    "count_rating = df.groupby(\"name\")[\"rating\"].count().sort_values(ascending = False)\n",
    "count_rating"
   ]
  },
  {
   "cell_type": "code",
   "execution_count": 16,
   "metadata": {
    "execution": {
     "iopub.execute_input": "2021-08-10T16:06:27.694240Z",
     "iopub.status.busy": "2021-08-10T16:06:27.550306Z",
     "iopub.status.idle": "2021-08-10T16:06:33.616078Z",
     "shell.execute_reply": "2021-08-10T16:06:33.615424Z"
    },
    "papermill": {
     "duration": 6.105258,
     "end_time": "2021-08-10T16:06:33.616204",
     "exception": false,
     "start_time": "2021-08-10T16:06:27.510946",
     "status": "completed"
    },
    "tags": []
   },
   "outputs": [],
   "source": [
    "#In the above output, we can see that there are anime names with 1 rating \n",
    "# and there are other animes with such a count so we will remove those with a count less than 5000(m value).\n",
    "#These values will deviate from our study and deleting those values will improve our recommendation accuracy.\n",
    "\n",
    "m = 5000\n",
    "more_than_m_ratings = count_rating[count_rating.apply(lambda x: x >= m)].index\n",
    "\n",
    "# Keep only the animes with a least m ratings in the DataFrame\n",
    "df_m = df[df['name'].apply(lambda x: x in more_than_m_ratings)]"
   ]
  },
  {
   "cell_type": "code",
   "execution_count": 17,
   "metadata": {
    "execution": {
     "iopub.execute_input": "2021-08-10T16:06:34.055556Z",
     "iopub.status.busy": "2021-08-10T16:06:34.054531Z",
     "iopub.status.idle": "2021-08-10T16:06:34.512287Z",
     "shell.execute_reply": "2021-08-10T16:06:34.511298Z"
    },
    "papermill": {
     "duration": 0.869498,
     "end_time": "2021-08-10T16:06:34.512473",
     "exception": false,
     "start_time": "2021-08-10T16:06:33.642975",
     "status": "completed"
    },
    "tags": []
   },
   "outputs": [
    {
     "name": "stdout",
     "output_type": "stream",
     "text": [
      "There are 9926 animes in the dataset before filtering and 279 animes after the filtering. 9926 animes => 279  animes 6337239 rows before filtering => 2517097  rows after filtering\n"
     ]
    }
   ],
   "source": [
    "before = len(df.name.unique())\n",
    "after = len(df_m.name.unique())\n",
    "rows_before = df.shape[0]\n",
    "rows_after = df_m.shape[0]\n",
    "print(\"There are\", (before),\"animes in the dataset before filtering and\", (after),\"animes after the filtering.\",\n",
    "(before),\"animes =>\", (after),\" animes\",(rows_before),\"rows before filtering =>\", (rows_after),\" rows after filtering\")"
   ]
  },
  {
   "cell_type": "markdown",
   "metadata": {
    "papermill": {
     "duration": 0.027184,
     "end_time": "2021-08-10T16:06:34.567420",
     "exception": false,
     "start_time": "2021-08-10T16:06:34.540236",
     "status": "completed"
    },
    "tags": []
   },
   "source": [
    "# 2. Collaborative Recommendation System<a class=\"anchor\" id=\"2\"></a>"
   ]
  },
  {
   "cell_type": "code",
   "execution_count": 18,
   "metadata": {
    "execution": {
     "iopub.execute_input": "2021-08-10T16:06:34.634684Z",
     "iopub.status.busy": "2021-08-10T16:06:34.633521Z",
     "iopub.status.idle": "2021-08-10T16:06:37.359304Z",
     "shell.execute_reply": "2021-08-10T16:06:37.358527Z"
    },
    "papermill": {
     "duration": 2.764542,
     "end_time": "2021-08-10T16:06:37.359433",
     "exception": false,
     "start_time": "2021-08-10T16:06:34.594891",
     "status": "completed"
    },
    "tags": []
   },
   "outputs": [
    {
     "data": {
      "text/html": [
       "<div>\n",
       "<style scoped>\n",
       "    .dataframe tbody tr th:only-of-type {\n",
       "        vertical-align: middle;\n",
       "    }\n",
       "\n",
       "    .dataframe tbody tr th {\n",
       "        vertical-align: top;\n",
       "    }\n",
       "\n",
       "    .dataframe thead th {\n",
       "        text-align: right;\n",
       "    }\n",
       "</style>\n",
       "<table border=\"1\" class=\"dataframe\">\n",
       "  <thead>\n",
       "    <tr style=\"text-align: right;\">\n",
       "      <th>name</th>\n",
       "      <th>Accel World</th>\n",
       "      <th>Afro Samurai</th>\n",
       "      <th>Air</th>\n",
       "      <th>Air Gear</th>\n",
       "      <th>Akame ga Kill!</th>\n",
       "    </tr>\n",
       "    <tr>\n",
       "      <th>user_id</th>\n",
       "      <th></th>\n",
       "      <th></th>\n",
       "      <th></th>\n",
       "      <th></th>\n",
       "      <th></th>\n",
       "    </tr>\n",
       "  </thead>\n",
       "  <tbody>\n",
       "    <tr>\n",
       "      <td>1</td>\n",
       "      <td>NaN</td>\n",
       "      <td>NaN</td>\n",
       "      <td>NaN</td>\n",
       "      <td>NaN</td>\n",
       "      <td>NaN</td>\n",
       "    </tr>\n",
       "    <tr>\n",
       "      <td>2</td>\n",
       "      <td>NaN</td>\n",
       "      <td>NaN</td>\n",
       "      <td>NaN</td>\n",
       "      <td>NaN</td>\n",
       "      <td>NaN</td>\n",
       "    </tr>\n",
       "    <tr>\n",
       "      <td>3</td>\n",
       "      <td>7.0</td>\n",
       "      <td>6.0</td>\n",
       "      <td>NaN</td>\n",
       "      <td>NaN</td>\n",
       "      <td>8.0</td>\n",
       "    </tr>\n",
       "    <tr>\n",
       "      <td>5</td>\n",
       "      <td>3.0</td>\n",
       "      <td>NaN</td>\n",
       "      <td>NaN</td>\n",
       "      <td>NaN</td>\n",
       "      <td>4.0</td>\n",
       "    </tr>\n",
       "    <tr>\n",
       "      <td>7</td>\n",
       "      <td>8.0</td>\n",
       "      <td>NaN</td>\n",
       "      <td>NaN</td>\n",
       "      <td>NaN</td>\n",
       "      <td>NaN</td>\n",
       "    </tr>\n",
       "  </tbody>\n",
       "</table>\n",
       "</div>"
      ],
      "text/plain": [
       "name     Accel World  Afro Samurai  Air  Air Gear  Akame ga Kill!\n",
       "user_id                                                          \n",
       "1                NaN           NaN  NaN       NaN             NaN\n",
       "2                NaN           NaN  NaN       NaN             NaN\n",
       "3                7.0           6.0  NaN       NaN             8.0\n",
       "5                3.0           NaN  NaN       NaN             4.0\n",
       "7                8.0           NaN  NaN       NaN             NaN"
      ]
     },
     "execution_count": 18,
     "metadata": {},
     "output_type": "execute_result"
    }
   ],
   "source": [
    "# Create a matrix with userId as rows and the titles of the movies as column.\n",
    "# Each cell will have the rating given by the user to the animes.\n",
    "# There will be a lot of NaN values, because each user hasn't watched most of the animes\n",
    "df_recommended = df_m.pivot_table(index='user_id',columns='name',values='rating')\n",
    "df_recommended.iloc[:5,:5]"
   ]
  },
  {
   "cell_type": "code",
   "execution_count": 19,
   "metadata": {
    "execution": {
     "iopub.execute_input": "2021-08-10T16:06:37.993795Z",
     "iopub.status.busy": "2021-08-10T16:06:37.993090Z",
     "iopub.status.idle": "2021-08-10T16:06:38.003758Z",
     "shell.execute_reply": "2021-08-10T16:06:38.003061Z"
    },
    "papermill": {
     "duration": 0.615915,
     "end_time": "2021-08-10T16:06:38.003887",
     "exception": false,
     "start_time": "2021-08-10T16:06:37.387972",
     "status": "completed"
    },
    "tags": []
   },
   "outputs": [
    {
     "data": {
      "text/plain": [
       "Death Note                            34226\n",
       "Sword Art Online                      26310\n",
       "Shingeki no Kyojin                    25290\n",
       "Code Geass: Hangyaku no Lelouch       24126\n",
       "Angel Beats!                          23565\n",
       "Elfen Lied                            23528\n",
       "Naruto                                22071\n",
       "Fullmetal Alchemist: Brotherhood      21494\n",
       "Fullmetal Alchemist                   21332\n",
       "Code Geass: Hangyaku no Lelouch R2    21124\n",
       "Name: name, dtype: int64"
      ]
     },
     "execution_count": 19,
     "metadata": {},
     "output_type": "execute_result"
    }
   ],
   "source": [
    "df_m.name.value_counts().head(10)"
   ]
  },
  {
   "cell_type": "code",
   "execution_count": 20,
   "metadata": {
    "execution": {
     "iopub.execute_input": "2021-08-10T16:06:38.068671Z",
     "iopub.status.busy": "2021-08-10T16:06:38.067774Z",
     "iopub.status.idle": "2021-08-10T16:06:38.070944Z",
     "shell.execute_reply": "2021-08-10T16:06:38.070313Z"
    },
    "papermill": {
     "duration": 0.038468,
     "end_time": "2021-08-10T16:06:38.071067",
     "exception": false,
     "start_time": "2021-08-10T16:06:38.032599",
     "status": "completed"
    },
    "tags": []
   },
   "outputs": [],
   "source": [
    "def find_corr(df, name):\n",
    "    similar_to_movie = df.corrwith(df[name])\n",
    "    similar_to_movie = pd.DataFrame(similar_to_movie,columns=['Correlation'])\n",
    "    similar_to_movie = similar_to_movie.sort_values(by = 'Correlation', ascending = False)\n",
    "    return similar_to_movie"
   ]
  },
  {
   "cell_type": "markdown",
   "metadata": {
    "papermill": {
     "duration": 0.030167,
     "end_time": "2021-08-10T16:06:38.129548",
     "exception": false,
     "start_time": "2021-08-10T16:06:38.099381",
     "status": "completed"
    },
    "tags": []
   },
   "source": [
    "# 3. Recommendations <a class=\"anchor\" id=\"3\"></a>\n",
    "\n",
    "Now we will try our recommendation on any Anime.\n",
    "\n",
    "* The higher the correlation, the higher the possibility that the viewer of the selected anime will like the recommended anime\n",
    "* Negative correlation means that the viewer is likely to dislikes the anime"
   ]
  },
  {
   "cell_type": "markdown",
   "metadata": {
    "papermill": {
     "duration": 0.029965,
     "end_time": "2021-08-10T16:06:38.191724",
     "exception": false,
     "start_time": "2021-08-10T16:06:38.161759",
     "status": "completed"
    },
    "tags": []
   },
   "source": [
    "## 3.1. [Dragon Ball Z]<a class=\"anchor\" id=\"4\"></a>\n",
    "<img src=\"https://miro.medium.com/max/1400/1*nFQqETyMOcItF_0IasBcfw.jpeg\" style=\"width: 100%; height: 100%\" align = \"left\">\n",
    "\n"
   ]
  },
  {
   "cell_type": "code",
   "execution_count": 21,
   "metadata": {
    "execution": {
     "iopub.execute_input": "2021-08-10T16:06:38.255186Z",
     "iopub.status.busy": "2021-08-10T16:06:38.254393Z",
     "iopub.status.idle": "2021-08-10T16:06:38.906848Z",
     "shell.execute_reply": "2021-08-10T16:06:38.906282Z"
    },
    "papermill": {
     "duration": 0.685558,
     "end_time": "2021-08-10T16:06:38.906978",
     "exception": false,
     "start_time": "2021-08-10T16:06:38.221420",
     "status": "completed"
    },
    "tags": []
   },
   "outputs": [
    {
     "data": {
      "text/html": [
       "<div>\n",
       "<style scoped>\n",
       "    .dataframe tbody tr th:only-of-type {\n",
       "        vertical-align: middle;\n",
       "    }\n",
       "\n",
       "    .dataframe tbody tr th {\n",
       "        vertical-align: top;\n",
       "    }\n",
       "\n",
       "    .dataframe thead th {\n",
       "        text-align: right;\n",
       "    }\n",
       "</style>\n",
       "<table border=\"1\" class=\"dataframe\">\n",
       "  <thead>\n",
       "    <tr style=\"text-align: right;\">\n",
       "      <th></th>\n",
       "      <th>Correlation</th>\n",
       "    </tr>\n",
       "    <tr>\n",
       "      <th>name</th>\n",
       "      <th></th>\n",
       "    </tr>\n",
       "  </thead>\n",
       "  <tbody>\n",
       "    <tr>\n",
       "      <td>Dragon Ball Z</td>\n",
       "      <td>1.000000</td>\n",
       "    </tr>\n",
       "    <tr>\n",
       "      <td>Dragon Ball</td>\n",
       "      <td>0.696191</td>\n",
       "    </tr>\n",
       "    <tr>\n",
       "      <td>Dragon Ball GT</td>\n",
       "      <td>0.519401</td>\n",
       "    </tr>\n",
       "    <tr>\n",
       "      <td>InuYasha</td>\n",
       "      <td>0.463992</td>\n",
       "    </tr>\n",
       "    <tr>\n",
       "      <td>Yuu☆Yuu☆Hakusho</td>\n",
       "      <td>0.461899</td>\n",
       "    </tr>\n",
       "    <tr>\n",
       "      <td>Bleach</td>\n",
       "      <td>0.452455</td>\n",
       "    </tr>\n",
       "    <tr>\n",
       "      <td>Pokemon</td>\n",
       "      <td>0.452286</td>\n",
       "    </tr>\n",
       "    <tr>\n",
       "      <td>Naruto</td>\n",
       "      <td>0.437442</td>\n",
       "    </tr>\n",
       "    <tr>\n",
       "      <td>Digimon Adventure 02</td>\n",
       "      <td>0.429204</td>\n",
       "    </tr>\n",
       "    <tr>\n",
       "      <td>Shaman King</td>\n",
       "      <td>0.422681</td>\n",
       "    </tr>\n",
       "    <tr>\n",
       "      <td>Rurouni Kenshin: Meiji Kenkaku Romantan</td>\n",
       "      <td>0.412887</td>\n",
       "    </tr>\n",
       "    <tr>\n",
       "      <td>Digimon Adventure</td>\n",
       "      <td>0.409150</td>\n",
       "    </tr>\n",
       "    <tr>\n",
       "      <td>Pokemon: Mewtwo no Gyakushuu</td>\n",
       "      <td>0.403641</td>\n",
       "    </tr>\n",
       "    <tr>\n",
       "      <td>Fairy Tail</td>\n",
       "      <td>0.397902</td>\n",
       "    </tr>\n",
       "    <tr>\n",
       "      <td>Katekyo Hitman Reborn!</td>\n",
       "      <td>0.395362</td>\n",
       "    </tr>\n",
       "    <tr>\n",
       "      <td>To LOVE-Ru</td>\n",
       "      <td>0.395091</td>\n",
       "    </tr>\n",
       "    <tr>\n",
       "      <td>Bleach Movie 2: The DiamondDust Rebellion - Mou Hitotsu no Hyourinmaru</td>\n",
       "      <td>0.392041</td>\n",
       "    </tr>\n",
       "    <tr>\n",
       "      <td>Toaru Majutsu no Index II</td>\n",
       "      <td>0.383717</td>\n",
       "    </tr>\n",
       "    <tr>\n",
       "      <td>Sekirei</td>\n",
       "      <td>0.382210</td>\n",
       "    </tr>\n",
       "    <tr>\n",
       "      <td>Zero no Tsukaima: Princesses no Rondo</td>\n",
       "      <td>0.378225</td>\n",
       "    </tr>\n",
       "    <tr>\n",
       "      <td>Magi: The Labyrinth of Magic</td>\n",
       "      <td>0.377730</td>\n",
       "    </tr>\n",
       "    <tr>\n",
       "      <td>Magi: The Kingdom of Magic</td>\n",
       "      <td>0.374183</td>\n",
       "    </tr>\n",
       "    <tr>\n",
       "      <td>Bakuman. 2nd Season</td>\n",
       "      <td>0.372478</td>\n",
       "    </tr>\n",
       "    <tr>\n",
       "      <td>Naruto Movie 1: Dai Katsugeki!! Yuki Hime Shinobu Houjou Dattebayo!</td>\n",
       "      <td>0.371030</td>\n",
       "    </tr>\n",
       "    <tr>\n",
       "      <td>Sword Art Online</td>\n",
       "      <td>0.369400</td>\n",
       "    </tr>\n",
       "    <tr>\n",
       "      <td>Zero no Tsukaima F</td>\n",
       "      <td>0.368519</td>\n",
       "    </tr>\n",
       "    <tr>\n",
       "      <td>Naruto: Shippuuden Movie 1</td>\n",
       "      <td>0.366105</td>\n",
       "    </tr>\n",
       "    <tr>\n",
       "      <td>Date A Live</td>\n",
       "      <td>0.362897</td>\n",
       "    </tr>\n",
       "    <tr>\n",
       "      <td>Btooom!</td>\n",
       "      <td>0.362888</td>\n",
       "    </tr>\n",
       "    <tr>\n",
       "      <td>IS: Infinite Stratos</td>\n",
       "      <td>0.362466</td>\n",
       "    </tr>\n",
       "    <tr>\n",
       "      <td>Bleach Movie 1: Memories of Nobody</td>\n",
       "      <td>0.362082</td>\n",
       "    </tr>\n",
       "    <tr>\n",
       "      <td>Toaru Majutsu no Index</td>\n",
       "      <td>0.361976</td>\n",
       "    </tr>\n",
       "    <tr>\n",
       "      <td>Fate/stay night: Unlimited Blade Works 2nd Season</td>\n",
       "      <td>0.359910</td>\n",
       "    </tr>\n",
       "    <tr>\n",
       "      <td>Dungeon ni Deai wo Motomeru no wa Machigatteiru Darou ka</td>\n",
       "      <td>0.358972</td>\n",
       "    </tr>\n",
       "    <tr>\n",
       "      <td>Charlotte</td>\n",
       "      <td>0.358034</td>\n",
       "    </tr>\n",
       "    <tr>\n",
       "      <td>Ao no Exorcist</td>\n",
       "      <td>0.357351</td>\n",
       "    </tr>\n",
       "    <tr>\n",
       "      <td>Rosario to Vampire Capu2</td>\n",
       "      <td>0.355395</td>\n",
       "    </tr>\n",
       "    <tr>\n",
       "      <td>Final Fantasy VII: Advent Children</td>\n",
       "      <td>0.355334</td>\n",
       "    </tr>\n",
       "    <tr>\n",
       "      <td>Rosario to Vampire</td>\n",
       "      <td>0.354391</td>\n",
       "    </tr>\n",
       "    <tr>\n",
       "      <td>Bleach Movie 3: Fade to Black - Kimi no Na wo Yobu</td>\n",
       "      <td>0.352597</td>\n",
       "    </tr>\n",
       "  </tbody>\n",
       "</table>\n",
       "</div>"
      ],
      "text/plain": [
       "                                                    Correlation\n",
       "name                                                           \n",
       "Dragon Ball Z                                          1.000000\n",
       "Dragon Ball                                            0.696191\n",
       "Dragon Ball GT                                         0.519401\n",
       "InuYasha                                               0.463992\n",
       "Yuu☆Yuu☆Hakusho                                        0.461899\n",
       "Bleach                                                 0.452455\n",
       "Pokemon                                                0.452286\n",
       "Naruto                                                 0.437442\n",
       "Digimon Adventure 02                                   0.429204\n",
       "Shaman King                                            0.422681\n",
       "Rurouni Kenshin: Meiji Kenkaku Romantan                0.412887\n",
       "Digimon Adventure                                      0.409150\n",
       "Pokemon: Mewtwo no Gyakushuu                           0.403641\n",
       "Fairy Tail                                             0.397902\n",
       "Katekyo Hitman Reborn!                                 0.395362\n",
       "To LOVE-Ru                                             0.395091\n",
       "Bleach Movie 2: The DiamondDust Rebellion - Mou...     0.392041\n",
       "Toaru Majutsu no Index II                              0.383717\n",
       "Sekirei                                                0.382210\n",
       "Zero no Tsukaima: Princesses no Rondo                  0.378225\n",
       "Magi: The Labyrinth of Magic                           0.377730\n",
       "Magi: The Kingdom of Magic                             0.374183\n",
       "Bakuman. 2nd Season                                    0.372478\n",
       "Naruto Movie 1: Dai Katsugeki!! Yuki Hime Shino...     0.371030\n",
       "Sword Art Online                                       0.369400\n",
       "Zero no Tsukaima F                                     0.368519\n",
       "Naruto: Shippuuden Movie 1                             0.366105\n",
       "Date A Live                                            0.362897\n",
       "Btooom!                                                0.362888\n",
       "IS: Infinite Stratos                                   0.362466\n",
       "Bleach Movie 1: Memories of Nobody                     0.362082\n",
       "Toaru Majutsu no Index                                 0.361976\n",
       "Fate/stay night: Unlimited Blade Works 2nd Season      0.359910\n",
       "Dungeon ni Deai wo Motomeru no wa Machigatteiru...     0.358972\n",
       "Charlotte                                              0.358034\n",
       "Ao no Exorcist                                         0.357351\n",
       "Rosario to Vampire Capu2                               0.355395\n",
       "Final Fantasy VII: Advent Children                     0.355334\n",
       "Rosario to Vampire                                     0.354391\n",
       "Bleach Movie 3: Fade to Black - Kimi no Na wo Yobu     0.352597"
      ]
     },
     "execution_count": 21,
     "metadata": {},
     "output_type": "execute_result"
    }
   ],
   "source": [
    "# we will give anime name as input\n",
    "anime1 = 'Dragon Ball Z'\n",
    "# recommended ones\n",
    "find_corr(df_recommended, anime1).head(40)"
   ]
  },
  {
   "cell_type": "code",
   "execution_count": 23,
   "metadata": {
    "execution": {
     "iopub.execute_input": "2021-08-10T16:06:38.975793Z",
     "iopub.status.busy": "2021-08-10T16:06:38.974754Z",
     "iopub.status.idle": "2021-08-10T16:06:39.599067Z",
     "shell.execute_reply": "2021-08-10T16:06:39.598361Z"
    },
    "papermill": {
     "duration": 0.661533,
     "end_time": "2021-08-10T16:06:39.599230",
     "exception": false,
     "start_time": "2021-08-10T16:06:38.937697",
     "status": "completed"
    },
    "tags": []
   },
   "outputs": [
    {
     "data": {
      "text/html": [
       "<div>\n",
       "<style scoped>\n",
       "    .dataframe tbody tr th:only-of-type {\n",
       "        vertical-align: middle;\n",
       "    }\n",
       "\n",
       "    .dataframe tbody tr th {\n",
       "        vertical-align: top;\n",
       "    }\n",
       "\n",
       "    .dataframe thead th {\n",
       "        text-align: right;\n",
       "    }\n",
       "</style>\n",
       "<table border=\"1\" class=\"dataframe\">\n",
       "  <thead>\n",
       "    <tr style=\"text-align: right;\">\n",
       "      <th></th>\n",
       "      <th>Correlation</th>\n",
       "    </tr>\n",
       "    <tr>\n",
       "      <th>name</th>\n",
       "      <th></th>\n",
       "    </tr>\n",
       "  </thead>\n",
       "  <tbody>\n",
       "    <tr>\n",
       "      <td>Evangelion: 2.0 You Can (Not) Advance</td>\n",
       "      <td>0.205074</td>\n",
       "    </tr>\n",
       "    <tr>\n",
       "      <td>Clannad: After Story</td>\n",
       "      <td>0.204166</td>\n",
       "    </tr>\n",
       "    <tr>\n",
       "      <td>Kara no Kyoukai 1: Fukan Fuukei</td>\n",
       "      <td>0.203909</td>\n",
       "    </tr>\n",
       "    <tr>\n",
       "      <td>Fate/Zero 2nd Season</td>\n",
       "      <td>0.203749</td>\n",
       "    </tr>\n",
       "    <tr>\n",
       "      <td>Monogatari Series: Second Season</td>\n",
       "      <td>0.199584</td>\n",
       "    </tr>\n",
       "    <tr>\n",
       "      <td>Wolf&amp;#039;s Rain</td>\n",
       "      <td>0.196745</td>\n",
       "    </tr>\n",
       "    <tr>\n",
       "      <td>Natsume Yuujinchou</td>\n",
       "      <td>0.196160</td>\n",
       "    </tr>\n",
       "    <tr>\n",
       "      <td>Fate/Zero</td>\n",
       "      <td>0.196105</td>\n",
       "    </tr>\n",
       "    <tr>\n",
       "      <td>Ookami Kodomo no Ame to Yuki</td>\n",
       "      <td>0.194914</td>\n",
       "    </tr>\n",
       "    <tr>\n",
       "      <td>Toki wo Kakeru Shoujo</td>\n",
       "      <td>0.193315</td>\n",
       "    </tr>\n",
       "    <tr>\n",
       "      <td>Hotaru no Haka</td>\n",
       "      <td>0.192267</td>\n",
       "    </tr>\n",
       "    <tr>\n",
       "      <td>Higashi no Eden</td>\n",
       "      <td>0.192126</td>\n",
       "    </tr>\n",
       "    <tr>\n",
       "      <td>Ouran Koukou Host Club</td>\n",
       "      <td>0.191266</td>\n",
       "    </tr>\n",
       "    <tr>\n",
       "      <td>Hyouka</td>\n",
       "      <td>0.190569</td>\n",
       "    </tr>\n",
       "    <tr>\n",
       "      <td>Ookami to Koushinryou</td>\n",
       "      <td>0.186051</td>\n",
       "    </tr>\n",
       "    <tr>\n",
       "      <td>Kanon (2006)</td>\n",
       "      <td>0.180762</td>\n",
       "    </tr>\n",
       "    <tr>\n",
       "      <td>Bakemonogatari</td>\n",
       "      <td>0.180238</td>\n",
       "    </tr>\n",
       "    <tr>\n",
       "      <td>Ghost in the Shell: Stand Alone Complex</td>\n",
       "      <td>0.173826</td>\n",
       "    </tr>\n",
       "    <tr>\n",
       "      <td>Suzumiya Haruhi no Yuuutsu</td>\n",
       "      <td>0.173688</td>\n",
       "    </tr>\n",
       "    <tr>\n",
       "      <td>Cowboy Bebop: Tengoku no Tobira</td>\n",
       "      <td>0.173367</td>\n",
       "    </tr>\n",
       "    <tr>\n",
       "      <td>Air</td>\n",
       "      <td>0.163686</td>\n",
       "    </tr>\n",
       "    <tr>\n",
       "      <td>Nana</td>\n",
       "      <td>0.162622</td>\n",
       "    </tr>\n",
       "    <tr>\n",
       "      <td>Mahou Shoujo Madoka★Magica</td>\n",
       "      <td>0.156940</td>\n",
       "    </tr>\n",
       "    <tr>\n",
       "      <td>Gekkan Shoujo Nozaki-kun</td>\n",
       "      <td>0.156769</td>\n",
       "    </tr>\n",
       "    <tr>\n",
       "      <td>Ergo Proxy</td>\n",
       "      <td>0.152498</td>\n",
       "    </tr>\n",
       "    <tr>\n",
       "      <td>Neon Genesis Evangelion</td>\n",
       "      <td>0.149062</td>\n",
       "    </tr>\n",
       "    <tr>\n",
       "      <td>Paprika</td>\n",
       "      <td>0.143560</td>\n",
       "    </tr>\n",
       "    <tr>\n",
       "      <td>Azumanga Daioh</td>\n",
       "      <td>0.143107</td>\n",
       "    </tr>\n",
       "    <tr>\n",
       "      <td>Suzumiya Haruhi no Shoushitsu</td>\n",
       "      <td>0.138333</td>\n",
       "    </tr>\n",
       "    <tr>\n",
       "      <td>Neon Genesis Evangelion: The End of Evangelion</td>\n",
       "      <td>0.134575</td>\n",
       "    </tr>\n",
       "    <tr>\n",
       "      <td>Ghost in the Shell</td>\n",
       "      <td>0.128214</td>\n",
       "    </tr>\n",
       "    <tr>\n",
       "      <td>Cowboy Bebop</td>\n",
       "      <td>0.128033</td>\n",
       "    </tr>\n",
       "    <tr>\n",
       "      <td>Byousoku 5 Centimeter</td>\n",
       "      <td>0.125506</td>\n",
       "    </tr>\n",
       "    <tr>\n",
       "      <td>Sayonara Zetsubou Sensei</td>\n",
       "      <td>0.123837</td>\n",
       "    </tr>\n",
       "    <tr>\n",
       "      <td>FLCL</td>\n",
       "      <td>0.122125</td>\n",
       "    </tr>\n",
       "    <tr>\n",
       "      <td>Baccano!</td>\n",
       "      <td>0.118050</td>\n",
       "    </tr>\n",
       "    <tr>\n",
       "      <td>Shinsekai yori</td>\n",
       "      <td>0.103682</td>\n",
       "    </tr>\n",
       "    <tr>\n",
       "      <td>Mushishi</td>\n",
       "      <td>0.090504</td>\n",
       "    </tr>\n",
       "    <tr>\n",
       "      <td>NHK ni Youkoso!</td>\n",
       "      <td>0.089092</td>\n",
       "    </tr>\n",
       "    <tr>\n",
       "      <td>Serial Experiments Lain</td>\n",
       "      <td>0.083479</td>\n",
       "    </tr>\n",
       "  </tbody>\n",
       "</table>\n",
       "</div>"
      ],
      "text/plain": [
       "                                                Correlation\n",
       "name                                                       \n",
       "Evangelion: 2.0 You Can (Not) Advance              0.205074\n",
       "Clannad: After Story                               0.204166\n",
       "Kara no Kyoukai 1: Fukan Fuukei                    0.203909\n",
       "Fate/Zero 2nd Season                               0.203749\n",
       "Monogatari Series: Second Season                   0.199584\n",
       "Wolf&#039;s Rain                                   0.196745\n",
       "Natsume Yuujinchou                                 0.196160\n",
       "Fate/Zero                                          0.196105\n",
       "Ookami Kodomo no Ame to Yuki                       0.194914\n",
       "Toki wo Kakeru Shoujo                              0.193315\n",
       "Hotaru no Haka                                     0.192267\n",
       "Higashi no Eden                                    0.192126\n",
       "Ouran Koukou Host Club                             0.191266\n",
       "Hyouka                                             0.190569\n",
       "Ookami to Koushinryou                              0.186051\n",
       "Kanon (2006)                                       0.180762\n",
       "Bakemonogatari                                     0.180238\n",
       "Ghost in the Shell: Stand Alone Complex            0.173826\n",
       "Suzumiya Haruhi no Yuuutsu                         0.173688\n",
       "Cowboy Bebop: Tengoku no Tobira                    0.173367\n",
       "Air                                                0.163686\n",
       "Nana                                               0.162622\n",
       "Mahou Shoujo Madoka★Magica                         0.156940\n",
       "Gekkan Shoujo Nozaki-kun                           0.156769\n",
       "Ergo Proxy                                         0.152498\n",
       "Neon Genesis Evangelion                            0.149062\n",
       "Paprika                                            0.143560\n",
       "Azumanga Daioh                                     0.143107\n",
       "Suzumiya Haruhi no Shoushitsu                      0.138333\n",
       "Neon Genesis Evangelion: The End of Evangelion     0.134575\n",
       "Ghost in the Shell                                 0.128214\n",
       "Cowboy Bebop                                       0.128033\n",
       "Byousoku 5 Centimeter                              0.125506\n",
       "Sayonara Zetsubou Sensei                           0.123837\n",
       "FLCL                                               0.122125\n",
       "Baccano!                                           0.118050\n",
       "Shinsekai yori                                     0.103682\n",
       "Mushishi                                           0.090504\n",
       "NHK ni Youkoso!                                    0.089092\n",
       "Serial Experiments Lain                            0.083479"
      ]
     },
     "execution_count": 23,
     "metadata": {},
     "output_type": "execute_result"
    }
   ],
   "source": [
    "# Tail means last ones means which are basically not recommended ones.\n",
    "find_corr(df_recommended, anime1).tail(40)"
   ]
  },
  {
   "cell_type": "code",
   "execution_count": null,
   "metadata": {
    "execution": {
     "iopub.execute_input": "2021-08-10T16:06:39.735367Z",
     "iopub.status.busy": "2021-08-10T16:06:39.734292Z",
     "iopub.status.idle": "2021-08-10T16:06:40.435067Z",
     "shell.execute_reply": "2021-08-10T16:06:40.434389Z"
    },
    "papermill": {
     "duration": 0.737724,
     "end_time": "2021-08-10T16:06:40.435205",
     "exception": false,
     "start_time": "2021-08-10T16:06:39.697481",
     "status": "completed"
    },
    "tags": []
   },
   "outputs": [],
   "source": []
  },
  {
   "cell_type": "code",
   "execution_count": null,
   "metadata": {
    "execution": {
     "iopub.execute_input": "2021-08-10T16:06:40.507069Z",
     "iopub.status.busy": "2021-08-10T16:06:40.505780Z",
     "iopub.status.idle": "2021-08-10T16:06:41.204161Z",
     "shell.execute_reply": "2021-08-10T16:06:41.203405Z"
    },
    "papermill": {
     "duration": 0.737743,
     "end_time": "2021-08-10T16:06:41.204282",
     "exception": false,
     "start_time": "2021-08-10T16:06:40.466539",
     "status": "completed"
    },
    "tags": []
   },
   "outputs": [],
   "source": []
  },
  {
   "cell_type": "code",
   "execution_count": null,
   "metadata": {},
   "outputs": [],
   "source": []
  }
 ],
 "metadata": {
  "kernelspec": {
   "display_name": "Python 3 (ipykernel)",
   "language": "python",
   "name": "python3"
  },
  "language_info": {
   "codemirror_mode": {
    "name": "ipython",
    "version": 3
   },
   "file_extension": ".py",
   "mimetype": "text/x-python",
   "name": "python",
   "nbconvert_exporter": "python",
   "pygments_lexer": "ipython3",
   "version": "3.9.13"
  },
  "papermill": {
   "duration": 44.67245,
   "end_time": "2021-08-10T16:06:41.346129",
   "environment_variables": {},
   "exception": null,
   "input_path": "__notebook__.ipynb",
   "output_path": "__notebook__.ipynb",
   "parameters": {},
   "start_time": "2021-08-10T16:05:56.673679",
   "version": "2.1.0"
  }
 },
 "nbformat": 4,
 "nbformat_minor": 4
}
